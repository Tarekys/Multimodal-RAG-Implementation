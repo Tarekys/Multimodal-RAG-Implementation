{
 "cells": [
  {
   "cell_type": "markdown",
   "id": "c3fbb7bb",
   "metadata": {},
   "source": [
    "### **Using Qwen2.5-VL on a Laptop with a GPU**"
   ]
  },
  {
   "cell_type": "markdown",
   "id": "ed1d26cf",
   "metadata": {},
   "source": [
    "[Qwen2.5-VL](https://huggingface.co/collections/Qwen/qwen25-vl-6795ffac22b334a837c0f9a5)"
   ]
  },
  {
   "cell_type": "markdown",
   "id": "e0a5f8b1",
   "metadata": {},
   "source": [
    "**1. Running Qwen2.5-VL web app locally**"
   ]
  },
  {
   "cell_type": "code",
   "execution_count": null,
   "id": "fb03e377",
   "metadata": {},
   "outputs": [],
   "source": [
    "\"\"\"\n",
    "1. Start by cloning the Qwen2.5-VL GitHub repository\n",
    " and navigating to the project directory:\n",
    "\"\"\"\n",
    "git clone https://github.com/QwenLM/Qwen2.5-VL"
   ]
  },
  {
   "cell_type": "code",
   "execution_count": null,
   "id": "0a272bfc",
   "metadata": {},
   "outputs": [],
   "source": [
    "cd Qwen2.5-VL"
   ]
  },
  {
   "cell_type": "markdown",
   "id": "f3a63e86",
   "metadata": {},
   "source": [
    "2. Install the required dependencies for the web application using the following command:"
   ]
  },
  {
   "cell_type": "code",
   "execution_count": null,
   "id": "8827e023",
   "metadata": {},
   "outputs": [],
   "source": [
    "pip install -r requirements_web_demo.txt"
   ]
  },
  {
   "cell_type": "code",
   "execution_count": null,
   "id": "83f9894b",
   "metadata": {},
   "outputs": [],
   "source": []
  },
  {
   "cell_type": "code",
   "execution_count": null,
   "id": "62e43b7a",
   "metadata": {},
   "outputs": [],
   "source": [
    "pip install torch torchvision torchaudio --index-url https://download.pytorch.org/whl/cu124"
   ]
  },
  {
   "cell_type": "code",
   "execution_count": null,
   "id": "3b5ccdd2",
   "metadata": {},
   "outputs": [],
   "source": [
    "pip install -U gradio gradio_client "
   ]
  },
  {
   "cell_type": "code",
   "execution_count": null,
   "id": "278c27b0",
   "metadata": {},
   "outputs": [],
   "source": [
    "python web_demo_mm.py --checkpoint-path \"Qwen/Qwen2.5-VL-3B-Instruct\" "
   ]
  }
 ],
 "metadata": {
  "kernelspec": {
   "display_name": "base",
   "language": "python",
   "name": "python3"
  },
  "language_info": {
   "name": "python",
   "version": "3.12.3"
  }
 },
 "nbformat": 4,
 "nbformat_minor": 5
}
